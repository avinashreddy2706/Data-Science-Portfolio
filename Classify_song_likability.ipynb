{
 "cells": [
  {
   "cell_type": "markdown",
   "metadata": {},
   "source": [
    "# About the project"
   ]
  },
  {
   "cell_type": "markdown",
   "metadata": {},
   "source": [
    "I came across a kaggle challenge recently and that motivated me for this project. \n",
    "The details are available at https://www.kaggle.com/geomack/spotifyclassification.\n",
    "This has two playlists, one was made up entirely of songs the author George liked and the other was made up of songs he didn't like. The goal is to build a classifier to predict whether or not he'd like a song based on its audio features. Inspired by George, I decided to try this. A dataset of 2017 songs with attributes from Spotify's API. Each song is labeled \"1\" meaning he likes it and \"0\" for songs he don't like. Each row represents a song.\n",
    "\n",
    "There are 16 columns. 13 of which are song attributes, one column for song name, one for artist, and a column called \"target\" which is the label for the song.\n",
    "\n",
    "Here are the 13 track attributes: \n",
    "\n",
    "$Acousticness$ - \n",
    "\n",
    "Confidence measure from 0.0 to 1.0 on whether the track is acoustic. Higher values represent greater confidence that the track is acoustic.\n",
    "\n",
    "$Danceability$ - \n",
    "\n",
    "Describes how suitable it is for dancing based on a combination of tempo, rhythm stability, beat strength, and regularity. Measured on a scale of 0.0 to 1.0.\n",
    "\n",
    "$Duration (ms)$ - \n",
    "\n",
    "Track duration in milliseconds\n",
    "\n",
    "$Energy$ - \n",
    "\n",
    "Represents a perceptual measure of intensity and activity. Ranges from 0.0 to 1.0. Energetic tracks feel fast, loud, and noisy, and have a higher enery value.\n",
    "\n",
    "$Instrumentalness$ - \n",
    "\n",
    "Predicts whether a track contains no vocals. Measured on a scale of 0.0 to 1.0. Values above 0.5 are intended to represent instrumental tracks, with higher confidence as the value approaches 1.0.\n",
    "\n",
    "$Key$ - \n",
    "\n",
    "Integer value representing which key the track is in following standard pitch class notation.\n",
    "\n",
    "$Liveness$ - \n",
    "\n",
    "Detects the presence of an audience in the recording. Values above 0.8 indicate strong likelihood the track is live.\n",
    "\n",
    "$Loudness$ - \n",
    "\n",
    "Overall average loudness of track measured in decibels.\n",
    "\n",
    "$Mode$ - \n",
    "\n",
    "Modality of track (major or minor). Major is represented by 1 and minor is represented by 0.\n",
    "\n",
    "$Speechiness$ - \n",
    "\n",
    "Detects presence of spoken words. The more speech-like a recording is, the closer to 1.0 the value will be. Values above 0.66 are tracks that are probably make up entirely of spoken words, values between 0.33 and 0.66 describe tracks containing both music and speech, and values less than 0.33 represent music or non-speech tracks.\n",
    "\n",
    "$Tempo$ - \n",
    "\n",
    "Overall estimate of beats per minute.\n",
    "\n",
    "$Time Signature$ - \n",
    "\n",
    "Overall time signature of track. Describes number of beats that are in each bar.\n",
    "\n",
    "$Valence$ - \n",
    "\n",
    "Describes the musical positiveness conveyed by the track. Measures from 0.0 to 1.0. High valence tracks sound more positive (e.g. happy, cheerful, euphoric) while low valence tracks sound more negative (e.g. sad, depressing, angry).\n"
   ]
  },
  {
   "cell_type": "code",
   "execution_count": 22,
   "metadata": {
    "collapsed": true
   },
   "outputs": [],
   "source": [
    "import numpy as np\n",
    "import pandas as pd\n",
    "import matplotlib.pyplot as plt\n",
    "import seaborn as sns\n",
    "import scipy.stats as stats\n",
    "\n",
    "# display float format - instead scientific notation\n",
    "pd.options.display.float_format = '{:.3f}'.format"
   ]
  },
  {
   "cell_type": "code",
   "execution_count": 2,
   "metadata": {
    "collapsed": true
   },
   "outputs": [],
   "source": [
    "df= pd.read_csv('spotify_song.csv')"
   ]
  },
  {
   "cell_type": "code",
   "execution_count": 3,
   "metadata": {},
   "outputs": [
    {
     "data": {
      "text/html": [
       "<div>\n",
       "<style>\n",
       "    .dataframe thead tr:only-child th {\n",
       "        text-align: right;\n",
       "    }\n",
       "\n",
       "    .dataframe thead th {\n",
       "        text-align: left;\n",
       "    }\n",
       "\n",
       "    .dataframe tbody tr th {\n",
       "        vertical-align: top;\n",
       "    }\n",
       "</style>\n",
       "<table border=\"1\" class=\"dataframe\">\n",
       "  <thead>\n",
       "    <tr style=\"text-align: right;\">\n",
       "      <th></th>\n",
       "      <th>Unnamed: 0</th>\n",
       "      <th>acousticness</th>\n",
       "      <th>danceability</th>\n",
       "      <th>duration_ms</th>\n",
       "      <th>energy</th>\n",
       "      <th>instrumentalness</th>\n",
       "      <th>key</th>\n",
       "      <th>liveness</th>\n",
       "      <th>loudness</th>\n",
       "      <th>mode</th>\n",
       "      <th>speechiness</th>\n",
       "      <th>tempo</th>\n",
       "      <th>time_signature</th>\n",
       "      <th>valence</th>\n",
       "      <th>target</th>\n",
       "      <th>song_title</th>\n",
       "      <th>artist</th>\n",
       "    </tr>\n",
       "  </thead>\n",
       "  <tbody>\n",
       "    <tr>\n",
       "      <th>0</th>\n",
       "      <td>0</td>\n",
       "      <td>0.010</td>\n",
       "      <td>0.833</td>\n",
       "      <td>204600</td>\n",
       "      <td>0.434</td>\n",
       "      <td>0.022</td>\n",
       "      <td>2</td>\n",
       "      <td>0.165</td>\n",
       "      <td>-8.795</td>\n",
       "      <td>1</td>\n",
       "      <td>0.431</td>\n",
       "      <td>150.062</td>\n",
       "      <td>4.000</td>\n",
       "      <td>0.286</td>\n",
       "      <td>1</td>\n",
       "      <td>Mask Off</td>\n",
       "      <td>Future</td>\n",
       "    </tr>\n",
       "    <tr>\n",
       "      <th>1</th>\n",
       "      <td>1</td>\n",
       "      <td>0.199</td>\n",
       "      <td>0.743</td>\n",
       "      <td>326933</td>\n",
       "      <td>0.359</td>\n",
       "      <td>0.006</td>\n",
       "      <td>1</td>\n",
       "      <td>0.137</td>\n",
       "      <td>-10.401</td>\n",
       "      <td>1</td>\n",
       "      <td>0.079</td>\n",
       "      <td>160.083</td>\n",
       "      <td>4.000</td>\n",
       "      <td>0.588</td>\n",
       "      <td>1</td>\n",
       "      <td>Redbone</td>\n",
       "      <td>Childish Gambino</td>\n",
       "    </tr>\n",
       "    <tr>\n",
       "      <th>2</th>\n",
       "      <td>2</td>\n",
       "      <td>0.034</td>\n",
       "      <td>0.838</td>\n",
       "      <td>185707</td>\n",
       "      <td>0.412</td>\n",
       "      <td>0.000</td>\n",
       "      <td>2</td>\n",
       "      <td>0.159</td>\n",
       "      <td>-7.148</td>\n",
       "      <td>1</td>\n",
       "      <td>0.289</td>\n",
       "      <td>75.044</td>\n",
       "      <td>4.000</td>\n",
       "      <td>0.173</td>\n",
       "      <td>1</td>\n",
       "      <td>Xanny Family</td>\n",
       "      <td>Future</td>\n",
       "    </tr>\n",
       "    <tr>\n",
       "      <th>3</th>\n",
       "      <td>3</td>\n",
       "      <td>0.604</td>\n",
       "      <td>0.494</td>\n",
       "      <td>199413</td>\n",
       "      <td>0.338</td>\n",
       "      <td>0.510</td>\n",
       "      <td>5</td>\n",
       "      <td>0.092</td>\n",
       "      <td>-15.236</td>\n",
       "      <td>1</td>\n",
       "      <td>0.026</td>\n",
       "      <td>86.468</td>\n",
       "      <td>4.000</td>\n",
       "      <td>0.230</td>\n",
       "      <td>1</td>\n",
       "      <td>Master Of None</td>\n",
       "      <td>Beach House</td>\n",
       "    </tr>\n",
       "    <tr>\n",
       "      <th>4</th>\n",
       "      <td>4</td>\n",
       "      <td>0.180</td>\n",
       "      <td>0.678</td>\n",
       "      <td>392893</td>\n",
       "      <td>0.561</td>\n",
       "      <td>0.512</td>\n",
       "      <td>5</td>\n",
       "      <td>0.439</td>\n",
       "      <td>-11.648</td>\n",
       "      <td>0</td>\n",
       "      <td>0.069</td>\n",
       "      <td>174.004</td>\n",
       "      <td>4.000</td>\n",
       "      <td>0.904</td>\n",
       "      <td>1</td>\n",
       "      <td>Parallel Lines</td>\n",
       "      <td>Junior Boys</td>\n",
       "    </tr>\n",
       "  </tbody>\n",
       "</table>\n",
       "</div>"
      ],
      "text/plain": [
       "   Unnamed: 0  acousticness  danceability  duration_ms  energy  \\\n",
       "0           0         0.010         0.833       204600   0.434   \n",
       "1           1         0.199         0.743       326933   0.359   \n",
       "2           2         0.034         0.838       185707   0.412   \n",
       "3           3         0.604         0.494       199413   0.338   \n",
       "4           4         0.180         0.678       392893   0.561   \n",
       "\n",
       "   instrumentalness  key  liveness  loudness  mode  speechiness   tempo  \\\n",
       "0             0.022    2     0.165    -8.795     1        0.431 150.062   \n",
       "1             0.006    1     0.137   -10.401     1        0.079 160.083   \n",
       "2             0.000    2     0.159    -7.148     1        0.289  75.044   \n",
       "3             0.510    5     0.092   -15.236     1        0.026  86.468   \n",
       "4             0.512    5     0.439   -11.648     0        0.069 174.004   \n",
       "\n",
       "   time_signature  valence  target      song_title            artist  \n",
       "0           4.000    0.286       1        Mask Off            Future  \n",
       "1           4.000    0.588       1         Redbone  Childish Gambino  \n",
       "2           4.000    0.173       1    Xanny Family            Future  \n",
       "3           4.000    0.230       1  Master Of None       Beach House  \n",
       "4           4.000    0.904       1  Parallel Lines       Junior Boys  "
      ]
     },
     "execution_count": 3,
     "metadata": {},
     "output_type": "execute_result"
    }
   ],
   "source": [
    "df.head()"
   ]
  },
  {
   "cell_type": "code",
   "execution_count": 4,
   "metadata": {},
   "outputs": [
    {
     "data": {
      "text/plain": [
       "(2017, 17)"
      ]
     },
     "execution_count": 4,
     "metadata": {},
     "output_type": "execute_result"
    }
   ],
   "source": [
    "df.shape"
   ]
  },
  {
   "cell_type": "code",
   "execution_count": 9,
   "metadata": {},
   "outputs": [
    {
     "data": {
      "text/plain": [
       "Unnamed: 0            int64\n",
       "acousticness        float64\n",
       "danceability        float64\n",
       "duration_ms           int64\n",
       "energy              float64\n",
       "instrumentalness    float64\n",
       "key                   int64\n",
       "liveness            float64\n",
       "loudness            float64\n",
       "mode                  int64\n",
       "speechiness         float64\n",
       "tempo               float64\n",
       "time_signature      float64\n",
       "valence             float64\n",
       "target                int64\n",
       "song_title           object\n",
       "artist               object\n",
       "dtype: object"
      ]
     },
     "execution_count": 9,
     "metadata": {},
     "output_type": "execute_result"
    }
   ],
   "source": [
    "df.dtypes"
   ]
  },
  {
   "cell_type": "code",
   "execution_count": 5,
   "metadata": {
    "collapsed": true
   },
   "outputs": [],
   "source": [
    "df.drop('Unnamed: 0', axis=1, inplace=True)"
   ]
  },
  {
   "cell_type": "code",
   "execution_count": 12,
   "metadata": {},
   "outputs": [
    {
     "data": {
      "text/plain": [
       "(2017, 16)"
      ]
     },
     "execution_count": 12,
     "metadata": {},
     "output_type": "execute_result"
    }
   ],
   "source": [
    "df.shape"
   ]
  },
  {
   "cell_type": "code",
   "execution_count": 6,
   "metadata": {},
   "outputs": [
    {
     "data": {
      "text/html": [
       "<div>\n",
       "<style>\n",
       "    .dataframe thead tr:only-child th {\n",
       "        text-align: right;\n",
       "    }\n",
       "\n",
       "    .dataframe thead th {\n",
       "        text-align: left;\n",
       "    }\n",
       "\n",
       "    .dataframe tbody tr th {\n",
       "        vertical-align: top;\n",
       "    }\n",
       "</style>\n",
       "<table border=\"1\" class=\"dataframe\">\n",
       "  <thead>\n",
       "    <tr style=\"text-align: right;\">\n",
       "      <th></th>\n",
       "      <th>acousticness</th>\n",
       "      <th>danceability</th>\n",
       "      <th>duration_ms</th>\n",
       "      <th>energy</th>\n",
       "      <th>instrumentalness</th>\n",
       "      <th>key</th>\n",
       "      <th>liveness</th>\n",
       "      <th>loudness</th>\n",
       "      <th>mode</th>\n",
       "      <th>speechiness</th>\n",
       "      <th>tempo</th>\n",
       "      <th>time_signature</th>\n",
       "      <th>valence</th>\n",
       "      <th>target</th>\n",
       "    </tr>\n",
       "  </thead>\n",
       "  <tbody>\n",
       "    <tr>\n",
       "      <th>count</th>\n",
       "      <td>2017.000</td>\n",
       "      <td>2017.000</td>\n",
       "      <td>2017.000</td>\n",
       "      <td>2017.000</td>\n",
       "      <td>2017.000</td>\n",
       "      <td>2017.000</td>\n",
       "      <td>2017.000</td>\n",
       "      <td>2017.000</td>\n",
       "      <td>2017.000</td>\n",
       "      <td>2017.000</td>\n",
       "      <td>2017.000</td>\n",
       "      <td>2017.000</td>\n",
       "      <td>2017.000</td>\n",
       "      <td>2017.000</td>\n",
       "    </tr>\n",
       "    <tr>\n",
       "      <th>mean</th>\n",
       "      <td>0.188</td>\n",
       "      <td>0.618</td>\n",
       "      <td>246306.197</td>\n",
       "      <td>0.682</td>\n",
       "      <td>0.133</td>\n",
       "      <td>5.343</td>\n",
       "      <td>0.191</td>\n",
       "      <td>-7.086</td>\n",
       "      <td>0.612</td>\n",
       "      <td>0.093</td>\n",
       "      <td>121.603</td>\n",
       "      <td>3.968</td>\n",
       "      <td>0.497</td>\n",
       "      <td>0.506</td>\n",
       "    </tr>\n",
       "    <tr>\n",
       "      <th>std</th>\n",
       "      <td>0.260</td>\n",
       "      <td>0.161</td>\n",
       "      <td>81981.814</td>\n",
       "      <td>0.210</td>\n",
       "      <td>0.273</td>\n",
       "      <td>3.648</td>\n",
       "      <td>0.155</td>\n",
       "      <td>3.762</td>\n",
       "      <td>0.487</td>\n",
       "      <td>0.090</td>\n",
       "      <td>26.686</td>\n",
       "      <td>0.256</td>\n",
       "      <td>0.247</td>\n",
       "      <td>0.500</td>\n",
       "    </tr>\n",
       "    <tr>\n",
       "      <th>min</th>\n",
       "      <td>0.000</td>\n",
       "      <td>0.122</td>\n",
       "      <td>16042.000</td>\n",
       "      <td>0.015</td>\n",
       "      <td>0.000</td>\n",
       "      <td>0.000</td>\n",
       "      <td>0.019</td>\n",
       "      <td>-33.097</td>\n",
       "      <td>0.000</td>\n",
       "      <td>0.023</td>\n",
       "      <td>47.859</td>\n",
       "      <td>1.000</td>\n",
       "      <td>0.035</td>\n",
       "      <td>0.000</td>\n",
       "    </tr>\n",
       "    <tr>\n",
       "      <th>25%</th>\n",
       "      <td>0.010</td>\n",
       "      <td>0.514</td>\n",
       "      <td>200015.000</td>\n",
       "      <td>0.563</td>\n",
       "      <td>0.000</td>\n",
       "      <td>2.000</td>\n",
       "      <td>0.092</td>\n",
       "      <td>-8.394</td>\n",
       "      <td>0.000</td>\n",
       "      <td>0.037</td>\n",
       "      <td>100.189</td>\n",
       "      <td>4.000</td>\n",
       "      <td>0.295</td>\n",
       "      <td>0.000</td>\n",
       "    </tr>\n",
       "    <tr>\n",
       "      <th>50%</th>\n",
       "      <td>0.063</td>\n",
       "      <td>0.631</td>\n",
       "      <td>229261.000</td>\n",
       "      <td>0.715</td>\n",
       "      <td>0.000</td>\n",
       "      <td>6.000</td>\n",
       "      <td>0.127</td>\n",
       "      <td>-6.248</td>\n",
       "      <td>1.000</td>\n",
       "      <td>0.055</td>\n",
       "      <td>121.427</td>\n",
       "      <td>4.000</td>\n",
       "      <td>0.492</td>\n",
       "      <td>1.000</td>\n",
       "    </tr>\n",
       "    <tr>\n",
       "      <th>75%</th>\n",
       "      <td>0.265</td>\n",
       "      <td>0.738</td>\n",
       "      <td>270333.000</td>\n",
       "      <td>0.846</td>\n",
       "      <td>0.054</td>\n",
       "      <td>9.000</td>\n",
       "      <td>0.247</td>\n",
       "      <td>-4.746</td>\n",
       "      <td>1.000</td>\n",
       "      <td>0.108</td>\n",
       "      <td>137.849</td>\n",
       "      <td>4.000</td>\n",
       "      <td>0.691</td>\n",
       "      <td>1.000</td>\n",
       "    </tr>\n",
       "    <tr>\n",
       "      <th>max</th>\n",
       "      <td>0.995</td>\n",
       "      <td>0.984</td>\n",
       "      <td>1004627.000</td>\n",
       "      <td>0.998</td>\n",
       "      <td>0.976</td>\n",
       "      <td>11.000</td>\n",
       "      <td>0.969</td>\n",
       "      <td>-0.307</td>\n",
       "      <td>1.000</td>\n",
       "      <td>0.816</td>\n",
       "      <td>219.331</td>\n",
       "      <td>5.000</td>\n",
       "      <td>0.992</td>\n",
       "      <td>1.000</td>\n",
       "    </tr>\n",
       "  </tbody>\n",
       "</table>\n",
       "</div>"
      ],
      "text/plain": [
       "       acousticness  danceability  duration_ms   energy  instrumentalness  \\\n",
       "count      2017.000      2017.000     2017.000 2017.000          2017.000   \n",
       "mean          0.188         0.618   246306.197    0.682             0.133   \n",
       "std           0.260         0.161    81981.814    0.210             0.273   \n",
       "min           0.000         0.122    16042.000    0.015             0.000   \n",
       "25%           0.010         0.514   200015.000    0.563             0.000   \n",
       "50%           0.063         0.631   229261.000    0.715             0.000   \n",
       "75%           0.265         0.738   270333.000    0.846             0.054   \n",
       "max           0.995         0.984  1004627.000    0.998             0.976   \n",
       "\n",
       "           key  liveness  loudness     mode  speechiness    tempo  \\\n",
       "count 2017.000  2017.000  2017.000 2017.000     2017.000 2017.000   \n",
       "mean     5.343     0.191    -7.086    0.612        0.093  121.603   \n",
       "std      3.648     0.155     3.762    0.487        0.090   26.686   \n",
       "min      0.000     0.019   -33.097    0.000        0.023   47.859   \n",
       "25%      2.000     0.092    -8.394    0.000        0.037  100.189   \n",
       "50%      6.000     0.127    -6.248    1.000        0.055  121.427   \n",
       "75%      9.000     0.247    -4.746    1.000        0.108  137.849   \n",
       "max     11.000     0.969    -0.307    1.000        0.816  219.331   \n",
       "\n",
       "       time_signature  valence   target  \n",
       "count        2017.000 2017.000 2017.000  \n",
       "mean            3.968    0.497    0.506  \n",
       "std             0.256    0.247    0.500  \n",
       "min             1.000    0.035    0.000  \n",
       "25%             4.000    0.295    0.000  \n",
       "50%             4.000    0.492    1.000  \n",
       "75%             4.000    0.691    1.000  \n",
       "max             5.000    0.992    1.000  "
      ]
     },
     "execution_count": 6,
     "metadata": {},
     "output_type": "execute_result"
    }
   ],
   "source": [
    "df.describe()"
   ]
  },
  {
   "cell_type": "code",
   "execution_count": 51,
   "metadata": {},
   "outputs": [
    {
     "data": {
      "text/plain": [
       "1    1020\n",
       "0     997\n",
       "Name: target, dtype: int64"
      ]
     },
     "execution_count": 51,
     "metadata": {},
     "output_type": "execute_result"
    }
   ],
   "source": [
    "df.target.value_counts()"
   ]
  },
  {
   "cell_type": "markdown",
   "metadata": {},
   "source": [
    "# DISTRIBUTIONS\n",
    "\n",
    "Now let's look at distributions of the audio features. This is an important step because some models assume input variables follow a normal distribution."
   ]
  },
  {
   "cell_type": "code",
   "execution_count": 32,
   "metadata": {},
   "outputs": [
    {
     "data": {
      "image/png": "[encoded data removed]",
      "text/plain": [
       "<matplotlib.figure.Figure at 0x2056a799198>"
      ]
     },
     "metadata": {},
     "output_type": "display_data"
    }
   ],
   "source": [
    "df2 = df.loc[:,~df.columns.isin(['song_title'  ,'artist','target' ])]\n",
    "df2.hist(figsize = (20,10))\n",
    "plt.show();"
   ]
  },
  {
   "cell_type": "markdown",
   "metadata": {},
   "source": [
    "Now let's take a look at how the audio features vary by preference group. Boxplots will be perfect for this. Let's also use a t-test to compare means between preference groups. Remember, songs I like have a target value of 1."
   ]
  },
  {
   "cell_type": "code",
   "execution_count": 61,
   "metadata": {},
   "outputs": [
    {
     "data": {
      "image/png": "[encoded data removed]",
      "text/plain": [
       "<matplotlib.figure.Figure at 0x20568251a90>"
      ]
     },
     "metadata": {},
     "output_type": "display_data"
    }
   ],
   "source": [
    "stats_df = pd.DataFrame(columns=['column', 'p_val'])\n",
    "plt.figure(figsize=(12,15))\n",
    "\n",
    "for i in enumerate(df2.columns):    \n",
    "    plt.subplot(4,4,i[0]+1)\n",
    "    sns.boxplot(data = df, x= 'target', y = i[1])\n",
    "    t_val, p_val = stats.ttest_ind(df[df['target'] == 0][i[1]],df[df['target'] == 1][i[1]])\n",
    "    stats_df = stats_df.append({'column': i[1],'p_val' : p_val}, ignore_index= True)\n",
    "plt.tight_layout()\n",
    "plt.show();"
   ]
  },
  {
   "cell_type": "code",
   "execution_count": 66,
   "metadata": {},
   "outputs": [
    {
     "data": {
      "text/html": [
       "<div>\n",
       "<style>\n",
       "    .dataframe thead tr:only-child th {\n",
       "        text-align: right;\n",
       "    }\n",
       "\n",
       "    .dataframe thead th {\n",
       "        text-align: left;\n",
       "    }\n",
       "\n",
       "    .dataframe tbody tr th {\n",
       "        vertical-align: top;\n",
       "    }\n",
       "</style>\n",
       "<table border=\"1\" class=\"dataframe\">\n",
       "  <thead>\n",
       "    <tr style=\"text-align: right;\">\n",
       "      <th></th>\n",
       "      <th>column</th>\n",
       "      <th>p_val</th>\n",
       "    </tr>\n",
       "  </thead>\n",
       "  <tbody>\n",
       "    <tr>\n",
       "      <th>0</th>\n",
       "      <td>acousticness</td>\n",
       "      <td>0.000</td>\n",
       "    </tr>\n",
       "    <tr>\n",
       "      <th>1</th>\n",
       "      <td>danceability</td>\n",
       "      <td>0.000</td>\n",
       "    </tr>\n",
       "    <tr>\n",
       "      <th>2</th>\n",
       "      <td>duration_ms</td>\n",
       "      <td>0.000</td>\n",
       "    </tr>\n",
       "    <tr>\n",
       "      <th>3</th>\n",
       "      <td>energy</td>\n",
       "      <td>0.075</td>\n",
       "    </tr>\n",
       "    <tr>\n",
       "      <th>4</th>\n",
       "      <td>instrumentalness</td>\n",
       "      <td>0.000</td>\n",
       "    </tr>\n",
       "    <tr>\n",
       "      <th>5</th>\n",
       "      <td>key</td>\n",
       "      <td>0.132</td>\n",
       "    </tr>\n",
       "    <tr>\n",
       "      <th>6</th>\n",
       "      <td>liveness</td>\n",
       "      <td>0.237</td>\n",
       "    </tr>\n",
       "    <tr>\n",
       "      <th>7</th>\n",
       "      <td>loudness</td>\n",
       "      <td>0.001</td>\n",
       "    </tr>\n",
       "    <tr>\n",
       "      <th>8</th>\n",
       "      <td>mode</td>\n",
       "      <td>0.001</td>\n",
       "    </tr>\n",
       "    <tr>\n",
       "      <th>9</th>\n",
       "      <td>speechiness</td>\n",
       "      <td>0.000</td>\n",
       "    </tr>\n",
       "    <tr>\n",
       "      <th>10</th>\n",
       "      <td>tempo</td>\n",
       "      <td>0.119</td>\n",
       "    </tr>\n",
       "    <tr>\n",
       "      <th>11</th>\n",
       "      <td>time_signature</td>\n",
       "      <td>0.071</td>\n",
       "    </tr>\n",
       "    <tr>\n",
       "      <th>12</th>\n",
       "      <td>valence</td>\n",
       "      <td>0.000</td>\n",
       "    </tr>\n",
       "  </tbody>\n",
       "</table>\n",
       "</div>"
      ],
      "text/plain": [
       "              column  p_val\n",
       "0       acousticness  0.000\n",
       "1       danceability  0.000\n",
       "2        duration_ms  0.000\n",
       "3             energy  0.075\n",
       "4   instrumentalness  0.000\n",
       "5                key  0.132\n",
       "6           liveness  0.237\n",
       "7           loudness  0.001\n",
       "8               mode  0.001\n",
       "9        speechiness  0.000\n",
       "10             tempo  0.119\n",
       "11    time_signature  0.071\n",
       "12           valence  0.000"
      ]
     },
     "execution_count": 66,
     "metadata": {},
     "output_type": "execute_result"
    }
   ],
   "source": [
    "stats_df"
   ]
  },
  {
   "cell_type": "markdown",
   "metadata": {},
   "source": [
    "There are the statistically significant differences between the preference groups in all audio features except few."
   ]
  },
  {
   "cell_type": "markdown",
   "metadata": {},
   "source": [
    " Let's look at correlation between the audio features themselves. Strong positive or negative correlations between variables can throw off our models so it's important to see what we're dealing with."
   ]
  },
  {
   "cell_type": "code",
   "execution_count": 67,
   "metadata": {},
   "outputs": [
    {
     "data": {
      "image/png": "[encoded data removed]",
      "text/plain": [
       "<matplotlib.figure.Figure at 0x205687112e8>"
      ]
     },
     "metadata": {},
     "output_type": "display_data"
    }
   ],
   "source": [
    "sns.heatmap(df.corr())\n",
    "plt.show()"
   ]
  },
  {
   "cell_type": "markdown",
   "metadata": {},
   "source": [
    "In general, there aren't too many strongly correlated variables. Energy and loudness are high positively correlated with each other, and both are somewhat negatively correlated with acousticness. Instrumentalness is also somewhat negatively correlated with loudness. We'll address the strong correlation between loudness and energy in the feature engineering section. For now, we'll leave the other variables as is."
   ]
  },
  {
   "cell_type": "markdown",
   "metadata": {},
   "source": [
    "# Feature Engineering\n",
    "Now that we have a good feel for the data, the next step is feature selection and engineering. The data is already in pretty good shape, so only a small amount of feature engineering is needed. In this section, let's do the following:\n",
    "\n",
    "Create dummy variables for key, Mode and time_signature\n",
    "\n",
    "Create interaction variable for loudness + energy\n",
    "\n",
    "Check correlations in feature dataset\n",
    "\n",
    "Normalize the data\n",
    "\n",
    "Specify data for input into models"
   ]
  },
  {
   "cell_type": "code",
   "execution_count": 73,
   "metadata": {},
   "outputs": [
    {
     "name": "stdout",
     "output_type": "stream",
     "text": [
      "1     257\n",
      "0     216\n",
      "7     212\n",
      "9     191\n",
      "11    187\n",
      "2     184\n",
      "5     166\n",
      "6     159\n",
      "10    141\n",
      "8     136\n",
      "4     105\n",
      "3      63\n",
      "Name: key, dtype: int64\n",
      "1    1235\n",
      "0     782\n",
      "Name: mode, dtype: int64\n",
      "4.000    1891\n",
      "3.000      93\n",
      "5.000      32\n",
      "1.000       1\n",
      "Name: time_signature, dtype: int64\n"
     ]
    }
   ],
   "source": [
    "print(df.key.value_counts())\n",
    "print(df['mode'].value_counts())\n",
    "print(df.time_signature.value_counts())\n"
   ]
  },
  {
   "cell_type": "code",
   "execution_count": 7,
   "metadata": {
    "collapsed": true
   },
   "outputs": [],
   "source": [
    "df2 = df.loc[:,~df.columns.isin(['song_title'  ,'artist','target','key','mode','time_signature' ])]\n"
   ]
  },
  {
   "cell_type": "code",
   "execution_count": 8,
   "metadata": {},
   "outputs": [
    {
     "data": {
      "text/html": [
       "<div>\n",
       "<style>\n",
       "    .dataframe thead tr:only-child th {\n",
       "        text-align: right;\n",
       "    }\n",
       "\n",
       "    .dataframe thead th {\n",
       "        text-align: left;\n",
       "    }\n",
       "\n",
       "    .dataframe tbody tr th {\n",
       "        vertical-align: top;\n",
       "    }\n",
       "</style>\n",
       "<table border=\"1\" class=\"dataframe\">\n",
       "  <thead>\n",
       "    <tr style=\"text-align: right;\">\n",
       "      <th></th>\n",
       "      <th>acousticness</th>\n",
       "      <th>danceability</th>\n",
       "      <th>duration_ms</th>\n",
       "      <th>energy</th>\n",
       "      <th>instrumentalness</th>\n",
       "      <th>liveness</th>\n",
       "      <th>loudness</th>\n",
       "      <th>speechiness</th>\n",
       "      <th>tempo</th>\n",
       "      <th>valence</th>\n",
       "      <th>...</th>\n",
       "      <th>8</th>\n",
       "      <th>9</th>\n",
       "      <th>10</th>\n",
       "      <th>11</th>\n",
       "      <th>0</th>\n",
       "      <th>1</th>\n",
       "      <th>1.0</th>\n",
       "      <th>3.0</th>\n",
       "      <th>4.0</th>\n",
       "      <th>5.0</th>\n",
       "    </tr>\n",
       "  </thead>\n",
       "  <tbody>\n",
       "    <tr>\n",
       "      <th>0</th>\n",
       "      <td>0.010</td>\n",
       "      <td>0.833</td>\n",
       "      <td>204600</td>\n",
       "      <td>0.434</td>\n",
       "      <td>0.022</td>\n",
       "      <td>0.165</td>\n",
       "      <td>-8.795</td>\n",
       "      <td>0.431</td>\n",
       "      <td>150.062</td>\n",
       "      <td>0.286</td>\n",
       "      <td>...</td>\n",
       "      <td>0</td>\n",
       "      <td>0</td>\n",
       "      <td>0</td>\n",
       "      <td>0</td>\n",
       "      <td>0</td>\n",
       "      <td>1</td>\n",
       "      <td>0</td>\n",
       "      <td>0</td>\n",
       "      <td>1</td>\n",
       "      <td>0</td>\n",
       "    </tr>\n",
       "    <tr>\n",
       "      <th>1</th>\n",
       "      <td>0.199</td>\n",
       "      <td>0.743</td>\n",
       "      <td>326933</td>\n",
       "      <td>0.359</td>\n",
       "      <td>0.006</td>\n",
       "      <td>0.137</td>\n",
       "      <td>-10.401</td>\n",
       "      <td>0.079</td>\n",
       "      <td>160.083</td>\n",
       "      <td>0.588</td>\n",
       "      <td>...</td>\n",
       "      <td>0</td>\n",
       "      <td>0</td>\n",
       "      <td>0</td>\n",
       "      <td>0</td>\n",
       "      <td>0</td>\n",
       "      <td>1</td>\n",
       "      <td>0</td>\n",
       "      <td>0</td>\n",
       "      <td>1</td>\n",
       "      <td>0</td>\n",
       "    </tr>\n",
       "    <tr>\n",
       "      <th>2</th>\n",
       "      <td>0.034</td>\n",
       "      <td>0.838</td>\n",
       "      <td>185707</td>\n",
       "      <td>0.412</td>\n",
       "      <td>0.000</td>\n",
       "      <td>0.159</td>\n",
       "      <td>-7.148</td>\n",
       "      <td>0.289</td>\n",
       "      <td>75.044</td>\n",
       "      <td>0.173</td>\n",
       "      <td>...</td>\n",
       "      <td>0</td>\n",
       "      <td>0</td>\n",
       "      <td>0</td>\n",
       "      <td>0</td>\n",
       "      <td>0</td>\n",
       "      <td>1</td>\n",
       "      <td>0</td>\n",
       "      <td>0</td>\n",
       "      <td>1</td>\n",
       "      <td>0</td>\n",
       "    </tr>\n",
       "    <tr>\n",
       "      <th>3</th>\n",
       "      <td>0.604</td>\n",
       "      <td>0.494</td>\n",
       "      <td>199413</td>\n",
       "      <td>0.338</td>\n",
       "      <td>0.510</td>\n",
       "      <td>0.092</td>\n",
       "      <td>-15.236</td>\n",
       "      <td>0.026</td>\n",
       "      <td>86.468</td>\n",
       "      <td>0.230</td>\n",
       "      <td>...</td>\n",
       "      <td>0</td>\n",
       "      <td>0</td>\n",
       "      <td>0</td>\n",
       "      <td>0</td>\n",
       "      <td>0</td>\n",
       "      <td>1</td>\n",
       "      <td>0</td>\n",
       "      <td>0</td>\n",
       "      <td>1</td>\n",
       "      <td>0</td>\n",
       "    </tr>\n",
       "    <tr>\n",
       "      <th>4</th>\n",
       "      <td>0.180</td>\n",
       "      <td>0.678</td>\n",
       "      <td>392893</td>\n",
       "      <td>0.561</td>\n",
       "      <td>0.512</td>\n",
       "      <td>0.439</td>\n",
       "      <td>-11.648</td>\n",
       "      <td>0.069</td>\n",
       "      <td>174.004</td>\n",
       "      <td>0.904</td>\n",
       "      <td>...</td>\n",
       "      <td>0</td>\n",
       "      <td>0</td>\n",
       "      <td>0</td>\n",
       "      <td>0</td>\n",
       "      <td>1</td>\n",
       "      <td>0</td>\n",
       "      <td>0</td>\n",
       "      <td>0</td>\n",
       "      <td>1</td>\n",
       "      <td>0</td>\n",
       "    </tr>\n",
       "  </tbody>\n",
       "</table>\n",
       "<p>5 rows × 28 columns</p>\n",
       "</div>"
      ],
      "text/plain": [
       "   acousticness  danceability  duration_ms  energy  instrumentalness  \\\n",
       "0         0.010         0.833       204600   0.434             0.022   \n",
       "1         0.199         0.743       326933   0.359             0.006   \n",
       "2         0.034         0.838       185707   0.412             0.000   \n",
       "3         0.604         0.494       199413   0.338             0.510   \n",
       "4         0.180         0.678       392893   0.561             0.512   \n",
       "\n",
       "   liveness  loudness  speechiness   tempo  valence ...   8  9  10  11  0  1  \\\n",
       "0     0.165    -8.795        0.431 150.062    0.286 ...   0  0   0   0  0  1   \n",
       "1     0.137   -10.401        0.079 160.083    0.588 ...   0  0   0   0  0  1   \n",
       "2     0.159    -7.148        0.289  75.044    0.173 ...   0  0   0   0  0  1   \n",
       "3     0.092   -15.236        0.026  86.468    0.230 ...   0  0   0   0  0  1   \n",
       "4     0.439   -11.648        0.069 174.004    0.904 ...   0  0   0   0  1  0   \n",
       "\n",
       "   1.0  3.0  4.0  5.0  \n",
       "0    0    0    1    0  \n",
       "1    0    0    1    0  \n",
       "2    0    0    1    0  \n",
       "3    0    0    1    0  \n",
       "4    0    0    1    0  \n",
       "\n",
       "[5 rows x 28 columns]"
      ]
     },
     "execution_count": 8,
     "metadata": {},
     "output_type": "execute_result"
    }
   ],
   "source": [
    "key_dum = pd.get_dummies(df.key)\n",
    "mode_dum = pd.get_dummies(df['mode'])\n",
    "time_dum = pd.get_dummies(df.time_signature)\n",
    "features = pd.concat([df2,key_dum,mode_dum, time_dum],axis=1)\n",
    "\n",
    "features.head()\n"
   ]
  },
  {
   "cell_type": "code",
   "execution_count": 9,
   "metadata": {
    "collapsed": true
   },
   "outputs": [],
   "source": [
    "# Create loudness/energy interaction\n",
    "features['loud*energy'] = features['loudness'] * features['energy']"
   ]
  },
  {
   "cell_type": "code",
   "execution_count": 12,
   "metadata": {},
   "outputs": [],
   "source": [
    "features.drop(['loudness', 'energy'], axis = 1, inplace=True)"
   ]
  },
  {
   "cell_type": "code",
   "execution_count": 13,
   "metadata": {},
   "outputs": [
    {
     "data": {
      "image/png": "[encoded data removed]",
      "text/plain": [
       "<matplotlib.figure.Figure at 0x26b01a69a20>"
      ]
     },
     "metadata": {},
     "output_type": "display_data"
    }
   ],
   "source": [
    "sns.heatmap(features.corr())\n",
    "plt.show()"
   ]
  },
  {
   "cell_type": "code",
   "execution_count": 14,
   "metadata": {},
   "outputs": [
    {
     "name": "stdout",
     "output_type": "stream",
     "text": [
      "(2017, 27)\n",
      "(2017,)\n"
     ]
    }
   ],
   "source": [
    "\n",
    "# Normalize\n",
    "from sklearn.preprocessing import StandardScaler\n",
    "normed_features = StandardScaler().fit_transform(features)\n",
    "# Specify model inputs to feed into pipelines\n",
    "X = normed_features\n",
    "y = df['target']\n",
    "\n",
    "# Verify shapes align\n",
    "print(X.shape)\n",
    "print(y.shape)"
   ]
  },
  {
   "cell_type": "markdown",
   "metadata": {},
   "source": [
    "# Modelling\n",
    "Our data is ready to go. Let's plug it into some models and see what predictive and explanatory power we can get. In this section, I'd like to compare the performance of several different types of algorithms.\n",
    "\n",
    "Here's what we'll explore:\n",
    "\n",
    "•\tNaive Bayes\n",
    "\n",
    "•\tLogistic Regression\n",
    "\n",
    "•\tRandom Forest\n",
    "\n",
    "•\tGradient Boosted\n",
    "\n",
    "•\tk-Nearest Neighbor\n",
    "\n",
    "# CROSS-VALIDATION\n",
    "\n",
    "The first step is to split the data into a training and validation set. Models will be optimized using the training set and the validation set will be used to test the model. This will come be useful for determining if a model is overfit. For the training dataset, we'll randomly choose 70% of the data. The remaining 30% will be used for validation. We'll also use stratified sampling to maintain class balance when splitting the data."
   ]
  },
  {
   "cell_type": "code",
   "execution_count": 15,
   "metadata": {},
   "outputs": [
    {
     "name": "stdout",
     "output_type": "stream",
     "text": [
      "Training size: (1411, 27) (1411,)\n",
      "Test size: (606, 27) (606,)\n",
      "1    714\n",
      "0    697\n",
      "Name: target, dtype: int64\n",
      "1    306\n",
      "0    300\n",
      "Name: target, dtype: int64\n"
     ]
    }
   ],
   "source": [
    "\n",
    "# Import train/test/split\n",
    "from sklearn.model_selection import train_test_split\n",
    "\n",
    "# Split data, set test size to 30%, use stratified sampling\n",
    "X_train, X_test, y_train, y_test = train_test_split(\n",
    "    X, \n",
    "    y, \n",
    "    stratify=y,\n",
    "    test_size=0.3, \n",
    "    random_state=17\n",
    ")\n",
    "\n",
    "# Examine shape of data sets\n",
    "print('Training size:', X_train.shape, y_train.shape)\n",
    "print('Test size:', X_test.shape, y_test.shape)\n",
    "\n",
    "# Verify class balance in train/test sets\n",
    "print(y_train.value_counts())\n",
    "print(y_test.value_counts())"
   ]
  },
  {
   "cell_type": "code",
   "execution_count": 16,
   "metadata": {
    "collapsed": true
   },
   "outputs": [],
   "source": [
    "# Import some other performance metrics we'll use later on\n",
    "from sklearn.metrics import confusion_matrix\n",
    "from sklearn.metrics import accuracy_score\n",
    "from sklearn.metrics import classification_report"
   ]
  },
  {
   "cell_type": "code",
   "execution_count": 17,
   "metadata": {},
   "outputs": [
    {
     "name": "stdout",
     "output_type": "stream",
     "text": [
      "NB training accuracy score: 0.663\n",
      "NB test accuracy score: 0.67\n"
     ]
    }
   ],
   "source": [
    "# ********************// Naive Bayes //***************************\n",
    "\n",
    "# Import model\n",
    "from sklearn.naive_bayes import BernoulliNB\n",
    "\n",
    "# Create instance\n",
    "bnb = BernoulliNB()\n",
    "\n",
    "# Fit training data\n",
    "bnb.fit(X_train, y_train)\n",
    "\n",
    "# Predict with training set\n",
    "y_pred_train = bnb.predict(X_train)\n",
    "\n",
    "# Predict with test set\n",
    "y_pred_test = bnb.predict(X_test)\n",
    "\n",
    "# Get accuracy scores\n",
    "print('NB training accuracy score:', round(accuracy_score(y_pred_train, y_train), 3))\n",
    "print('NB test accuracy score:', round(accuracy_score(y_pred_test, y_test), 3))"
   ]
  },
  {
   "cell_type": "markdown",
   "metadata": {},
   "source": [
    "The model performs decently. The training set accuracy is 66.3% and the test set accuracy is 67%. This indicates the model is slightly overfit, but overall it's not too bad.\n",
    "\n",
    "let's take a brief look at false positives, false negatives, precision and recall of our model would look like."
   ]
  },
  {
   "cell_type": "code",
   "execution_count": 19,
   "metadata": {},
   "outputs": [
    {
     "name": "stdout",
     "output_type": "stream",
     "text": [
      "Confusion matrix training data: \n",
      " [[457 240]\n",
      " [236 478]] \n",
      "\n",
      "Precision/Recall training data: \n",
      "              precision    recall  f1-score   support\n",
      "\n",
      "          0       0.66      0.66      0.66       697\n",
      "          1       0.67      0.67      0.67       714\n",
      "\n",
      "avg / total       0.66      0.66      0.66      1411\n",
      "\n"
     ]
    }
   ],
   "source": [
    "# Confusion matrix training data\n",
    "print('Confusion matrix training data: \\n', confusion_matrix(y_train, y_pred_train), '\\n')\n",
    "\n",
    "# Classification metrics\n",
    "print('Precision/Recall training data: \\n', classification_report(y_train, y_pred_train))"
   ]
  },
  {
   "cell_type": "markdown",
   "metadata": {
    "collapsed": true
   },
   "source": [
    "From left to right, top to bottom, the confusion matrix gives the breakdown of true negatives (TN), false positives (FP), false negatives (FN), and true positives (TP).\n",
    "\n",
    "The classification report gives us precision, recall, and f1-scores.\n",
    "\n",
    "$Precision$ is a measurement of the true positives relative to the total number of predicted positive values .\n",
    "\n",
    "$Recall$ (or sensitivity) is a measurement of the true positives relative to the total number of actual positive values.\n",
    "\n",
    "The $F1 score$ combines precision and recall, providing the harmonic mean.\n"
   ]
  },
  {
   "cell_type": "markdown",
   "metadata": {},
   "source": [
    "# LOGISTIC REGRESSION\n",
    "\n",
    "The next algorithm we'll look at is logistic regression."
   ]
  },
  {
   "cell_type": "code",
   "execution_count": 20,
   "metadata": {},
   "outputs": [
    {
     "name": "stdout",
     "output_type": "stream",
     "text": [
      "Logistic regression training accuracy score:  0.708\n",
      "Logistic regression test accuracy score:  0.706\n"
     ]
    },
    {
     "data": {
      "image/png": "[encoded data removed]",
      "text/plain": [
       "<matplotlib.figure.Figure at 0x26b02d65860>"
      ]
     },
     "metadata": {},
     "output_type": "display_data"
    }
   ],
   "source": [
    "# Import model\n",
    "from sklearn.linear_model import LogisticRegression\n",
    "\n",
    "# Create instance.  Set C very large so there's no regularization \n",
    "lr = LogisticRegression(C=1e10)\n",
    "\n",
    "# Fit with training data\n",
    "lr.fit(X_train, y_train)\n",
    "\n",
    "\n",
    "# Get accuracy score and confusion matrix\n",
    "print('Logistic regression training accuracy score: ', round(lr.score(X_train, y_train), 3))\n",
    "print('Logistic regression test accuracy score: ', round(lr.score(X_test, y_test), 3))\n",
    "\n",
    "# Get coefficients, flatten, and send to list\n",
    "coef_list = lr.coef_.ravel().tolist()\n",
    "\n",
    "# Create new data frame with coefficients\n",
    "coef = pd.DataFrame(data=coef_list, columns=['coef'])\n",
    "\n",
    "# Add in variable names\n",
    "coef['variable'] = list(features)\n",
    "\n",
    "# Sort by coefficient value\n",
    "sorted_coef = coef.sort_values('coef', ascending=False)\n",
    "\n",
    "# Plot \n",
    "plt.figure(figsize=(8,5))\n",
    "sns.set_style('darkgrid')\n",
    "sns.barplot(x=sorted_coef['variable'], y=sorted_coef['coef'], color='teal')\n",
    "plt.xticks(rotation=90)\n",
    "plt.ylabel('Value')\n",
    "plt.title('Logistic Regression Coefficients')\n",
    "\n",
    "plt.show()"
   ]
  },
  {
   "cell_type": "markdown",
   "metadata": {},
   "source": [
    "# RANDOM FOREST\n",
    "\n",
    "Let's try out Random Forest and Gradient Boosted Random Forest algorithms next. Random Forests work by generating several different trees from subsets of the data and then averaging the results. This can improve overall accuracy and combat overfitting seen in a single Decision Tree. Gradient Boosted Random Forests are optimized to reduce residuals of each successive tree in the forest. We'll again use a grid search to select the best hyperparameters for each model variation."
   ]
  },
  {
   "cell_type": "code",
   "execution_count": 31,
   "metadata": {
    "collapsed": true
   },
   "outputs": [],
   "source": [
    "from sklearn import ensemble\n",
    "from sklearn.model_selection import GridSearchCV, cross_val_score"
   ]
  },
  {
   "cell_type": "code",
   "execution_count": 28,
   "metadata": {},
   "outputs": [
    {
     "name": "stdout",
     "output_type": "stream",
     "text": [
      "RF training accuracy score: 0.663\n",
      "RF test accuracy score: 0.67\n"
     ]
    }
   ],
   "source": [
    "# ************************ // Random Forest - Grid Search //*****************\n",
    "\n",
    "\n",
    "# Create instance.  Set # features to sqrt of total.\n",
    "forest = ensemble.RandomForestClassifier(random_state=17)\n",
    "# Fit with training data\n",
    "forest.fit(X_train, y_train)\n",
    "\n",
    "# Get accuracy scores\n",
    "print('RF training accuracy score:', round(accuracy_score(y_pred_train, y_train), 3))\n",
    "print('RF test accuracy score:', round(accuracy_score(y_pred_test, y_test), 3))"
   ]
  },
  {
   "cell_type": "markdown",
   "metadata": {},
   "source": [
    "With the default settings of the Random Forest model, the accuracy on the test set was 66% which is similar to what we got from Logistic Regression. Let's try to optimize this model."
   ]
  },
  {
   "cell_type": "code",
   "execution_count": 29,
   "metadata": {},
   "outputs": [
    {
     "name": "stdout",
     "output_type": "stream",
     "text": [
      "0.780297661233\n",
      "{'max_depth': None, 'max_features': 'log2', 'min_samples_split': 2, 'n_estimators': 500}\n"
     ]
    }
   ],
   "source": [
    "rfc_params  = {\n",
    "    'n_estimators':[100,200,500],\n",
    "    'max_features':['auto', 'sqrt', 'log2'],\n",
    "    'max_depth':[4, 6,7, 8, None],\n",
    "    'min_samples_split':[2, 8]\n",
    "}\n",
    "rfc_grid = GridSearchCV(ensemble.RandomForestClassifier(random_state=1), param_grid=rfc_params, cv=5)\n",
    "rfc_grid.fit(X_train, y_train)\n",
    "\n",
    "print(rfc_grid.best_score_)\n",
    "print(rfc_grid.best_params_)"
   ]
  },
  {
   "cell_type": "markdown",
   "metadata": {},
   "source": [
    "let's use these parameters for a new Random Forest model and see the scores."
   ]
  },
  {
   "cell_type": "code",
   "execution_count": 32,
   "metadata": {},
   "outputs": [
    {
     "name": "stdout",
     "output_type": "stream",
     "text": [
      "Training Set- Cross Validation Score : 0.780 (+/-0.08)\n",
      "Test Set- Cross Validation Score : 0.746 (+/-0.06)\n",
      "ROC Score : 0.746 (+/-0.06)\n"
     ]
    }
   ],
   "source": [
    "rfc = ensemble.RandomForestClassifier( **rfc_grid.best_params_, random_state = 1)\n",
    "rfc.fit(X_train, y_train)\n",
    "rfc_train_score = cross_val_score(rfc, X_train, y_train, cv = 5)\n",
    "rfc_test_score = cross_val_score(rfc, X_test, y_test, cv = 5)\n",
    "rfc_ROC_score = cross_val_score(rfc, X_test, y_test, cv = 5)\n",
    "print('Training Set- Cross Validation Score : {:.3f} (+/-{:.2f})'.format(rfc_train_score.mean(), rfc_train_score.std()*2))\n",
    "print('Test Set- Cross Validation Score : {:.3f} (+/-{:.2f})'.format(rfc_test_score.mean(), rfc_test_score.std()*2))\n",
    "print('ROC Score : {:.3f} (+/-{:.2f})'.format(rfc_ROC_score.mean(), rfc_ROC_score.std()*2))"
   ]
  },
  {
   "cell_type": "code",
   "execution_count": 35,
   "metadata": {},
   "outputs": [
    {
     "data": {
      "image/png": "[encoded data removed]",
      "text/plain": [
       "<matplotlib.figure.Figure at 0x26b01ee4ba8>"
      ]
     },
     "metadata": {},
     "output_type": "display_data"
    }
   ],
   "source": [
    "# Evaluate feature importance\n",
    "forest_features = pd.DataFrame()\n",
    "forest_features['importance'] = forest.feature_importances_\n",
    "forest_features['features'] = features.columns\n",
    "sorted_forest = forest_features.sort_values('importance', ascending=False)\n",
    "\n",
    "# Plot\n",
    "plt.figure(figsize=(10, 5))\n",
    "sns.set_style('darkgrid')\n",
    "sns.barplot(x=sorted_forest['features'] , y=sorted_forest['importance'], color='teal')\n",
    "plt.title('Random Forest Feature Importance')\n",
    "plt.xticks(rotation=90)\n",
    "plt.show()"
   ]
  },
  {
   "cell_type": "markdown",
   "metadata": {},
   "source": [
    "# Gradient Boosted Regression Trees"
   ]
  },
  {
   "cell_type": "code",
   "execution_count": 34,
   "metadata": {},
   "outputs": [
    {
     "name": "stdout",
     "output_type": "stream",
     "text": [
      "Training Set- Cross Validation Score : 0.758 (+/-0.06)\n",
      "Test Set- Cross Validation Score : 0.728 (+/-0.05)\n",
      "ROC Score : 0.728 (+/-0.05)\n"
     ]
    }
   ],
   "source": [
    "gbrt = ensemble.GradientBoostingClassifier(random_state=1)\n",
    "gbrt.fit(X_train, y_train)\n",
    "gbrt_train_score = cross_val_score(gbrt, X_train, y_train, cv = 5)\n",
    "gbrt_test_score = cross_val_score(gbrt, X_test, y_test, cv = 5)\n",
    "gbrt_ROC_score = cross_val_score(gbrt, X_test, y_test, cv = 5)\n",
    "print('Training Set- Cross Validation Score : {:.3f} (+/-{:.2f})'.format(gbrt_train_score.mean(), gbrt_train_score.std()*2))\n",
    "print('Test Set- Cross Validation Score : {:.3f} (+/-{:.2f})'.format(gbrt_test_score.mean(), gbrt_test_score.std()*2))\n",
    "print('ROC Score : {:.3f} (+/-{:.2f})'.format(gbrt_ROC_score.mean(), gbrt_ROC_score.std()*2))"
   ]
  },
  {
   "cell_type": "code",
   "execution_count": 36,
   "metadata": {},
   "outputs": [
    {
     "name": "stdout",
     "output_type": "stream",
     "text": [
      "Best Score: 0.854991675314\n",
      "Best Parameters: {'loss': 'deviance', 'max_depth': 8, 'max_features': 'sqrt', 'min_samples_leaf': 25, 'min_samples_split': 50, 'n_estimators': 100, 'subsample': 0.8}\n"
     ]
    }
   ],
   "source": [
    "# Set of parameters to test for best score in Grid Search CV\n",
    "parameters = {'loss':['deviance'],\n",
    "               'min_samples_split':[50,100,200],\n",
    "             'min_samples_leaf':[25,50,75],\n",
    "             'max_depth':[5,6,7,8],\n",
    "             'max_features':['sqrt'],\n",
    "             'subsample':[0.6,0.8],\n",
    "             'n_estimators':[50,100,150]}\n",
    "\n",
    "#fitting model and printing best parameters and score from model\n",
    "grid_gbc = GridSearchCV(gbrt, param_grid=parameters, scoring='roc_auc')\n",
    "grid_gbc.fit(X_train, y_train)\n",
    "\n",
    "print('Best Score:', grid_gbc.best_score_)\n",
    "best_params_gbc = grid_gbc.best_params_\n",
    "print('Best Parameters:', best_params_gbc)"
   ]
  },
  {
   "cell_type": "code",
   "execution_count": 38,
   "metadata": {},
   "outputs": [
    {
     "name": "stdout",
     "output_type": "stream",
     "text": [
      "Training Set- Cross Validation Score : 0.766 (+/-0.04)\n",
      "Test Set- Cross Validation Score : 0.744 (+/-0.09)\n",
      "ROC Score : 0.721 (+/-0.08)\n"
     ]
    }
   ],
   "source": [
    "gbc2 = ensemble.GradientBoostingClassifier(**best_params_gbc)\n",
    "gbc2.fit(X_train, y_train)\n",
    "gbc2_train_score = cross_val_score(gbc2, X_train, y_train, cv = 5)\n",
    "gbc2_test_score = cross_val_score(gbc2, X_test, y_test, cv = 5)\n",
    "gbc2_ROC_score = cross_val_score(gbc2, X_test, y_test, cv = 5)\n",
    "print('Training Set- Cross Validation Score : {:.3f} (+/-{:.2f})'.format(gbc2_train_score.mean(), gbc2_train_score.std()*2))\n",
    "print('Test Set- Cross Validation Score : {:.3f} (+/-{:.2f})'.format(gbc2_test_score.mean(), gbc2_test_score.std()*2))\n",
    "print('ROC Score : {:.3f} (+/-{:.2f})'.format(gbc2_ROC_score.mean(), gbc2_ROC_score.std()*2))"
   ]
  },
  {
   "cell_type": "code",
   "execution_count": 39,
   "metadata": {},
   "outputs": [
    {
     "data": {
      "image/png": "[encoded data removed]",
      "text/plain": [
       "<matplotlib.figure.Figure at 0x26b06fb4c50>"
      ]
     },
     "metadata": {},
     "output_type": "display_data"
    }
   ],
   "source": [
    "# Evaluate feature importance\n",
    "gbc_features = pd.DataFrame()\n",
    "gbc_features['importance'] = gbc2.feature_importances_\n",
    "gbc_features['features'] = features.columns\n",
    "gbc_sorted = gbc_features.sort_values('importance', ascending=False)\n",
    "\n",
    "# Plot\n",
    "plt.figure(figsize=(10, 5))\n",
    "sns.set_style('darkgrid')\n",
    "sns.barplot(x=gbc_sorted['features'] , y=gbc_sorted['importance'], color='teal')\n",
    "plt.title('Gradient Boosted Random Forest Feature Importance')\n",
    "plt.xticks(rotation=90)\n",
    "plt.show()"
   ]
  },
  {
   "cell_type": "markdown",
   "metadata": {},
   "source": [
    "# Conclusions\n",
    "For this project, we've built a classifier to predict whether or not I will like a song based on Spotify's audio features. \n",
    "\n",
    "Overall, model accuracy ranged from ~65 - 75%. Both the models - random forest and gradient boosting performed similarly. Given I have a varied taste in music, it's not suprising model performance was what it was. I like many different types of music based on my mood and my playlist of 'liked' data is quite diverse. Plus, looking at the boxplots of audio features reveals quite a bit of overlap in many of the features regardless of preference class. This indicates there may be more to my music preferences than audio features alone.\n",
    "\n",
    "And perhaps more interesting than predicting song preference, I got to peek under the hood and better understand the mechanics of my musicial tastes. speechiness, loud, energy,acoustic tendencies, danceability  were the top 6 features affecting the likability of the song.\n",
    "\n",
    "I learned that I tend to like songs with a high speechiness, lower energy, and lower loudness.\n",
    "\n",
    "Thanks for reading!"
   ]
  },
  {
   "cell_type": "code",
   "execution_count": null,
   "metadata": {
    "collapsed": true
   },
   "outputs": [],
   "source": []
  }
 ],
 "metadata": {
  "kernelspec": {
   "display_name": "Python 3",
   "language": "python",
   "name": "python3"
  },
  "language_info": {
   "codemirror_mode": {
    "name": "ipython",
    "version": 3
   },
   "file_extension": ".py",
   "mimetype": "text/x-python",
   "name": "python",
   "nbconvert_exporter": "python",
   "pygments_lexer": "ipython3",
   "version": "3.6.3"
  }
 },
 "nbformat": 4,
 "nbformat_minor": 2
}
